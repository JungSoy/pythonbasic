{
  "nbformat": 4,
  "nbformat_minor": 0,
  "metadata": {
    "colab": {
      "provenance": [],
      "authorship_tag": "ABX9TyORNdPlTHQ+zkmbTHMMOB3l",
      "include_colab_link": true
    },
    "kernelspec": {
      "name": "python3",
      "display_name": "Python 3"
    },
    "language_info": {
      "name": "python"
    }
  },
  "cells": [
    {
      "cell_type": "markdown",
      "metadata": {
        "id": "view-in-github",
        "colab_type": "text"
      },
      "source": [
        "<a href=\"https://colab.research.google.com/github/JungSoy/pythonbasic/blob/main/PythonDay4.ipynb\" target=\"_parent\"><img src=\"https://colab.research.google.com/assets/colab-badge.svg\" alt=\"Open In Colab\"/></a>"
      ]
    },
    {
      "cell_type": "code",
      "execution_count": 1,
      "metadata": {
        "colab": {
          "base_uri": "https://localhost:8080/"
        },
        "id": "X5XKi7wIUDhQ",
        "outputId": "4c77c8f9-f949-4152-e8ac-31d13b2cf19b"
      },
      "outputs": [
        {
          "output_type": "stream",
          "name": "stdout",
          "text": [
            "현재시간을 입력하세요 > 2:00\n",
            "정각입니다.\n"
          ]
        }
      ],
      "source": [
        "# IF\n",
        "# 1. 사용자로부터 입력 받은 시간이 정각인지를 판별하세요\n",
        "\n",
        "# 02:00   정각입니다.\n",
        "# 02:10   정각이 아닙니다.\n",
        "# 11:23   정각이 아닙니다.\n",
        "\n",
        "# Hint - 항상 정각은 끝에 두자리가 00으로 끝난다. \n",
        "\n",
        "time = input(\"현재시간을 입력하세요 > \")\n",
        "\n",
        "if time[-2:] == \"00\":\n",
        "  print(\"정각입니다.\")\n",
        "else:\n",
        "  print(\"정각이 아닙니다.\")"
      ]
    },
    {
      "cell_type": "code",
      "source": [
        "# 슬라이싱\n",
        "\n",
        "txt = \"i love you\"\n",
        "\n",
        "txt[0:6]\n",
        "\n",
        "txt[-1]\n",
        "\n",
        "txt[-2:]"
      ],
      "metadata": {
        "colab": {
          "base_uri": "https://localhost:8080/",
          "height": 35
        },
        "id": "yN3sR8peVnT-",
        "outputId": "ef59096e-36ac-4390-cda2-1c4e40e4046a"
      },
      "execution_count": 2,
      "outputs": [
        {
          "output_type": "execute_result",
          "data": {
            "text/plain": [
              "'ou'"
            ],
            "application/vnd.google.colaboratory.intrinsic+json": {
              "type": "string"
            }
          },
          "metadata": {},
          "execution_count": 2
        }
      ]
    },
    {
      "cell_type": "code",
      "source": [
        "# 2\n",
        "\n",
        "warn_investment_list = [\"Microsoft\", \"Google\", \"Naver\", \"Kakao\", \"SAMSUNG\", \"LG\"]\n",
        "\n",
        "종목 = input(\"종목명: \")\n",
        "if 종목 in warn_investment_list:\n",
        "    print(\"투자 경고 종목입니다.\")\n",
        "else:\n",
        "    print(\"투자 경고 종목이 아닙니다.\")\n",
        "\n",
        "\n",
        "#Hint : in 연산자 "
      ],
      "metadata": {
        "colab": {
          "base_uri": "https://localhost:8080/"
        },
        "id": "Z3Ky3oupVqdp",
        "outputId": "7ee848a4-da7c-4aad-d32e-b63c7bd217ad"
      },
      "execution_count": 3,
      "outputs": [
        {
          "output_type": "stream",
          "name": "stdout",
          "text": [
            "종목명: Google\n",
            "투자 경고 종목입니다.\n"
          ]
        }
      ]
    },
    {
      "cell_type": "code",
      "source": [
        "# 3\n",
        "\n",
        "txt = input(\"한 글자만 입력하세요 >\")\n",
        "\n",
        "if txt.islower():\n",
        "  print(txt.upper())\n",
        "else:\n",
        "  print(txt.lower())\n",
        "  \n",
        "\n",
        "# Hint : .lower()    .upper()"
      ],
      "metadata": {
        "colab": {
          "base_uri": "https://localhost:8080/"
        },
        "id": "_-QV7IJZahhA",
        "outputId": "fba008e0-5ef5-4446-d21d-2c85babc93df"
      },
      "execution_count": 5,
      "outputs": [
        {
          "output_type": "stream",
          "name": "stdout",
          "text": [
            "한 글자만 입력하세요 >s\n",
            "S\n"
          ]
        }
      ]
    },
    {
      "cell_type": "code",
      "source": [
        "# 4\n",
        "\n",
        "no = int(input(\"학생의 점수를 입력하세요 > \"))\n",
        "\n",
        "if no >= 90:\n",
        "  grade = 'A'\n",
        "elif no >= 80:\n",
        "  grade = 'B'\n",
        "elif no >= 70:\n",
        "  grade = 'C'\n",
        "elif no >= 60:\n",
        "  grade = 'D'\n",
        "else:\n",
        "  grade = 'F'\n",
        "\n",
        "if no % 10 >= 0 and no % 10 <= 3:\n",
        "  grade2 = '-'\n",
        "elif no % 10 >= 4 and no % 10 <= 6:\n",
        "  grade2 = '0'\n",
        "else:\n",
        "  grade2 = '+'\n",
        "\n",
        "print(f'입력하신 학생의 학점은 {grade}{grade2}입니다.')\n",
        "\n",
        "# 문제 2가지 100점인 학생이 A-\n",
        "#            F점대 학생들도 + 0 - 가 나옴"
      ],
      "metadata": {
        "colab": {
          "base_uri": "https://localhost:8080/"
        },
        "id": "YBlMOJgzanNu",
        "outputId": "a1dd1903-2a25-446e-c5d0-d9ec70bf63ff"
      },
      "execution_count": 6,
      "outputs": [
        {
          "output_type": "stream",
          "name": "stdout",
          "text": [
            "학생의 점수를 입력하세요 > 88\n",
            "입력하신 학생의 학점은 B+입니다.\n"
          ]
        }
      ]
    },
    {
      "cell_type": "code",
      "source": [
        "####################### For ####################################\n",
        "\n",
        "# 5\n",
        "list = [ 3, -20, -3, 44]\n",
        "for i in list:\n",
        "  if i < 0:\n",
        "    print(i)"
      ],
      "metadata": {
        "colab": {
          "base_uri": "https://localhost:8080/"
        },
        "id": "nMxuiJ-VhKON",
        "outputId": "33888d5c-ba51-4b37-b749-20aff563a6c6"
      },
      "execution_count": 7,
      "outputs": [
        {
          "output_type": "stream",
          "name": "stdout",
          "text": [
            "-20\n",
            "-3\n"
          ]
        }
      ]
    },
    {
      "cell_type": "code",
      "source": [
        "# 6\n",
        "\n",
        "list = [3,100,23,44,6,9]\n",
        "\n",
        "for i in list :\n",
        "  if i % 3 == 0 :\n",
        "    print(i)"
      ],
      "metadata": {
        "colab": {
          "base_uri": "https://localhost:8080/"
        },
        "id": "kBpydZ7KhMWU",
        "outputId": "38617793-97b7-4cd7-fd03-2aedb09c8d94"
      },
      "execution_count": 8,
      "outputs": [
        {
          "output_type": "stream",
          "name": "stdout",
          "text": [
            "3\n",
            "6\n",
            "9\n"
          ]
        }
      ]
    },
    {
      "cell_type": "code",
      "source": [
        "# 7 \n",
        "\n",
        "list = [\"I\", \"study\", \"python\", \"language\", \"!\"]\n",
        "for i in list:\n",
        "  if len(i) >= 3:\n",
        "    print(i)\n",
        "\n",
        "# hint : len()\n"
      ],
      "metadata": {
        "colab": {
          "base_uri": "https://localhost:8080/"
        },
        "id": "w1IcVjaqhP-Z",
        "outputId": "7105c95c-11fd-45f9-80a1-ba794e48522b"
      },
      "execution_count": 9,
      "outputs": [
        {
          "output_type": "stream",
          "name": "stdout",
          "text": [
            "study\n",
            "python\n",
            "language\n"
          ]
        }
      ]
    },
    {
      "cell_type": "code",
      "source": [
        "# 8 for 문을 사용하여 대문자만을 출력하라\n",
        "\n",
        "list = [\"A\", \"b\", \"c\", \"D\"]\n",
        "\n",
        "for i in list :\n",
        "  if i == i.upper() :\n",
        "    print(i)"
      ],
      "metadata": {
        "colab": {
          "base_uri": "https://localhost:8080/"
        },
        "id": "egxRO5hjhSis",
        "outputId": "cd373669-98e7-446d-ff26-1bb1c190d4e8"
      },
      "execution_count": 10,
      "outputs": [
        {
          "output_type": "stream",
          "name": "stdout",
          "text": [
            "A\n",
            "D\n"
          ]
        }
      ]
    },
    {
      "cell_type": "code",
      "source": [
        "# 9\n",
        "\n",
        "l1 = ['dog', 'cat', 'parrot']\n",
        "\n",
        "for i in l1:\n",
        "  c1 = i[0]   # 인덱싱 첫글자\n",
        "  c2 = c1.upper()\n",
        "  print(c2 + i[1:])"
      ],
      "metadata": {
        "colab": {
          "base_uri": "https://localhost:8080/"
        },
        "id": "0-xhbA_UhbA6",
        "outputId": "260c7be4-c3f1-42e1-de94-36c8f2c24744"
      },
      "execution_count": 11,
      "outputs": [
        {
          "output_type": "stream",
          "name": "stdout",
          "text": [
            "Dog\n",
            "Cat\n",
            "Parrot\n"
          ]
        }
      ]
    },
    {
      "cell_type": "code",
      "source": [
        "l1 = ['dog', 'cat', 'parrot']\n",
        "\n",
        "for i in l1:\n",
        "  print(i[0].upper() + i[1:])"
      ],
      "metadata": {
        "colab": {
          "base_uri": "https://localhost:8080/"
        },
        "id": "eS2K9c3ai1Gd",
        "outputId": "d7dfcded-0643-4cf6-8c87-4cbce0271d1c"
      },
      "execution_count": 12,
      "outputs": [
        {
          "output_type": "stream",
          "name": "stdout",
          "text": [
            "Dog\n",
            "Cat\n",
            "Parrot\n"
          ]
        }
      ]
    },
    {
      "cell_type": "code",
      "source": [
        "# 10\n",
        "\n",
        "\n",
        "for i in ['hello.py', 'ex01.py', 'intro.hwp']:\n",
        "  print(i.split('.')[0])"
      ],
      "metadata": {
        "colab": {
          "base_uri": "https://localhost:8080/"
        },
        "id": "EJ6oyDBnmqLi",
        "outputId": "130e62ea-5168-403e-8d73-8562ea26c646"
      },
      "execution_count": 13,
      "outputs": [
        {
          "output_type": "stream",
          "name": "stdout",
          "text": [
            "hello\n",
            "ex01\n",
            "intro\n"
          ]
        }
      ]
    },
    {
      "cell_type": "code",
      "source": [
        "# 11\n",
        "\n",
        "sum = 0\n",
        "for i in range(1, 11):\n",
        "  if i % 2 == 1:\n",
        "    sum += i\n",
        "print(sum)"
      ],
      "metadata": {
        "colab": {
          "base_uri": "https://localhost:8080/"
        },
        "id": "W5JgzTtEmqdJ",
        "outputId": "055bc121-967a-4039-b1a6-0cd8e78f8fde"
      },
      "execution_count": 14,
      "outputs": [
        {
          "output_type": "stream",
          "name": "stdout",
          "text": [
            "25\n"
          ]
        }
      ]
    },
    {
      "cell_type": "code",
      "source": [
        "# 12\n",
        "\n",
        "\n",
        "my_list = [\"가\", \"나\", \"다\", \"라\"]\n",
        "\n",
        "print(my_list[3], my_list[2])\n",
        "print(my_list[2], my_list[1])\n",
        "print(my_list[1], my_list[0])"
      ],
      "metadata": {
        "colab": {
          "base_uri": "https://localhost:8080/"
        },
        "id": "at6ancGAmqqg",
        "outputId": "2398cae9-3d7b-442a-ddb2-c4c218c1829e"
      },
      "execution_count": 15,
      "outputs": [
        {
          "output_type": "stream",
          "name": "stdout",
          "text": [
            "라 다\n",
            "다 나\n",
            "나 가\n"
          ]
        }
      ]
    },
    {
      "cell_type": "code",
      "source": [
        "\n",
        "my_list = [\"가\", \"나\", \"다\", \"라\"]\n",
        "\n",
        "print(my_list[3], my_list[2])\n",
        "print(my_list[2], my_list[1])\n",
        "print(my_list[1], my_list[0])"
      ],
      "metadata": {
        "id": "-uBKQA0Fmy9X"
      },
      "execution_count": null,
      "outputs": []
    },
    {
      "cell_type": "code",
      "source": [
        "my_list = [\"가\", \"나\", \"다\", \"라\"]\n",
        "\n",
        "for i in [3,2,1]:\n",
        "  print(my_list[i], my_list[i-1])"
      ],
      "metadata": {
        "colab": {
          "base_uri": "https://localhost:8080/"
        },
        "id": "z6am5TBQxEdZ",
        "outputId": "eb9a5f7a-3d42-4cae-8332-020e625f492b"
      },
      "execution_count": 20,
      "outputs": [
        {
          "output_type": "stream",
          "name": "stdout",
          "text": [
            "라 다\n",
            "다 나\n",
            "나 가\n"
          ]
        }
      ]
    },
    {
      "cell_type": "code",
      "source": [
        "list = [\"가\", \"나\", \"다\", \"라\"]\n",
        "for i in range(len(list)-1, 0, -1):\n",
        "  print(list[i], list[i-1])"
      ],
      "metadata": {
        "colab": {
          "base_uri": "https://localhost:8080/"
        },
        "id": "A5U1JXXzw23i",
        "outputId": "36892e11-3397-4a94-ae0a-25f043eb16bd"
      },
      "execution_count": 17,
      "outputs": [
        {
          "output_type": "stream",
          "name": "stdout",
          "text": [
            "라 다\n",
            "다 나\n",
            "나 가\n"
          ]
        }
      ]
    },
    {
      "cell_type": "code",
      "source": [
        "# 13\n",
        "\n",
        "ohlc = [[\"open\", \"high\", \"low\", \"close\"],\n",
        "        [100, 110, 70, 100],\n",
        "        [200, 210, 180, 190],\n",
        "        [300, 310, 300, 310]]\n",
        "\n",
        "\n",
        "for i in (range(1,len(ohlc))):\n",
        "  print(ohlc[i][3])"
      ],
      "metadata": {
        "colab": {
          "base_uri": "https://localhost:8080/"
        },
        "id": "Ctx_zouIw74G",
        "outputId": "e8986798-31c5-4dc6-d83a-edcd023feb8b"
      },
      "execution_count": 19,
      "outputs": [
        {
          "output_type": "stream",
          "name": "stdout",
          "text": [
            "100\n",
            "190\n",
            "310\n"
          ]
        }
      ]
    },
    {
      "cell_type": "code",
      "source": [
        "# 14\n",
        "\n",
        "total = 0\n",
        "while total <= 50:\n",
        "  total += int(input('더할 수 입력 : '))\n",
        "print(total)"
      ],
      "metadata": {
        "colab": {
          "base_uri": "https://localhost:8080/"
        },
        "id": "BGGMWkudw9zn",
        "outputId": "109652c0-d67a-48d6-b3a5-44e9153660f3"
      },
      "execution_count": 21,
      "outputs": [
        {
          "output_type": "stream",
          "name": "stdout",
          "text": [
            "더할 수 입력 : 10\n",
            "더할 수 입력 : 30\n",
            "더할 수 입력 : 20\n",
            "60\n"
          ]
        }
      ]
    },
    {
      "cell_type": "code",
      "source": [
        "# 15\n",
        "\n",
        "num = 0\n",
        "while num <= 5:\n",
        "  num = int(input('수 입력 : '))\n",
        "print(num)\n",
        "\n"
      ],
      "metadata": {
        "id": "izlQbgWnxZuV"
      },
      "execution_count": null,
      "outputs": []
    },
    {
      "cell_type": "code",
      "source": [
        "# 16\n",
        "\n",
        "by 김도영\n",
        "\n",
        "a = 0\n",
        "while True:\n",
        "    a = int(input(\"10 ~ 20 숫자 입력 > \"))\n",
        "    if a > 20:\n",
        "        print(\"Too high\")\n",
        "    elif a < 10:\n",
        "        print(\"Too low\")\n",
        "    else:\n",
        "        print(\"Thank you\")\n",
        "        break"
      ],
      "metadata": {
        "id": "T2pEAdEkxetG"
      },
      "execution_count": null,
      "outputs": []
    },
    {
      "cell_type": "code",
      "source": [
        "# 17\n",
        "\n",
        "import random\n",
        "\n",
        "compnum = random.randrange(1, 101)\n",
        "\n"
      ],
      "metadata": {
        "id": "1P3LGCrwxrXN"
      },
      "execution_count": null,
      "outputs": []
    },
    {
      "cell_type": "code",
      "source": [
        "#17\n",
        "\n",
        "import random\n",
        "\n",
        "compnum = random.randrange(1, 101)\n",
        "count = 0\n",
        "while True:\n",
        "    a = int(input(\"1 ~ 100 숫자 입력 > \"))\n",
        "    if a > compnum:\n",
        "        print(\"Too high\")\n",
        "        count += 1\n",
        "    elif a < compnum:\n",
        "        print(\"Too low\")\n",
        "        count += 1\n",
        "    else:\n",
        "        print(f\"Well done. you took {count} attempts\")\n",
        "        break"
      ],
      "metadata": {
        "id": "TNa3ScQkx6D6"
      },
      "execution_count": null,
      "outputs": []
    },
    {
      "cell_type": "code",
      "source": [
        "벽에10개의 녹색 병이 걸려 있습니다~  녹색 병이 1개 실수로 떨어졌습니다~ \n",
        "녹색 병이 몇개 남았을까요~~??4\n",
        "아니요~ 녹색 병의 갯수가 틀렸네요~~\n",
        "벽에9개의 녹색 병이 걸려 있습니다~  녹색 병이 1개 실수로 떨어졌습니다~ \n",
        "녹색 병이 몇개 남았을까요~~??5\n",
        "아니요~ 녹색 병의 갯수가 틀렸네요~~\n",
        "벽에8개의 녹색 병이 걸려 있습니다~  녹색 병이 1개 실수로 떨어졌습니다~ \n",
        "녹색 병이 몇개 남았을까요~~??2\n",
        "아니요~ 녹색 병의 갯수가 틀렸네요~~\n",
        "벽에7개의 녹색 병이 걸려 있습니다~  녹색 병이 1개 실수로 떨어졌습니다~ \n",
        "녹색 병이 몇개 남았을까요~~??3\n",
        "아니요~ 녹색 병의 갯수가 틀렸네요~~\n",
        "벽에6개의 녹색 병이 걸려 있습니다~  녹색 병이 1개 실수로 떨어졌습니다~ \n",
        "녹색 병이 몇개 남았을까요~~??4\n",
        "아니요~ 녹색 병의 갯수가 틀렸네요~~\n",
        "벽에5개의 녹색 병이 걸려 있습니다~  녹색 병이 1개 실수로 떨어졌습니다~ "
      ],
      "metadata": {
        "id": "3atdFWmn24BT"
      },
      "execution_count": null,
      "outputs": []
    },
    {
      "cell_type": "code",
      "source": [
        "num = 10\n",
        "while True :\n",
        "  print(f'There are {num} green bottles hanging on the wall. {num} green bottles hanging on the wall. and if 1 green bottle should accidentally fall')\n",
        "  num -= 1\n",
        "  if num == 0:\n",
        "    print('There are no more a green bottles hanging on the wall')\n",
        "    break\n",
        "  else:\n",
        "    q1 = int(input('how many green bottles will be hanging on the wall?'))\n",
        "    if q1 != num:\n",
        "      print(\"No, try again\")\n",
        "    else:\n",
        "      print(f'There are {num} green bottles hanging on the wall')\n",
        "      break"
      ],
      "metadata": {
        "id": "YL-Q_JSh7DSv"
      },
      "execution_count": null,
      "outputs": []
    },
    {
      "cell_type": "code",
      "source": [
        "#by 강세빈 님 정답~~~~~~~~\n",
        "\n",
        "num = 10\n",
        "\n",
        "print(f\"There are {num} green bottles hanging on the wall, {num} green bottles hanging on the wall, and if 1 green bottle sould accidentally fall.\")\n",
        "num -= 1\n",
        "while num >= 0:\n",
        "  bottle = int(input(\"How many green bottles will be hanging on the wall? > \"))\n",
        "  if num == bottle :\n",
        "    print(f\"There will be {num} green bottles hanging on the wall\")\n",
        "  else :\n",
        "    print(\"No, try again\")\n",
        "    continue;\n",
        "  print(f\"There are {num} green bottles hanging on the wall, {num} green bottles hanging on the wall, and if 1 green bottle sould accidentally fall.\")\n",
        "  num -= 1\n",
        "print(\"There are no more green bottles hanging on the wall\")"
      ],
      "metadata": {
        "id": "GFGQjF7e7H9l"
      },
      "execution_count": null,
      "outputs": []
    }
  ]
}