{
  "nbformat": 4,
  "nbformat_minor": 0,
  "metadata": {
    "colab": {
      "provenance": [],
      "authorship_tag": "ABX9TyMTSkkETdGIr8JkVz/Je1aj",
      "include_colab_link": true
    },
    "kernelspec": {
      "name": "python3",
      "display_name": "Python 3"
    },
    "language_info": {
      "name": "python"
    }
  },
  "cells": [
    {
      "cell_type": "markdown",
      "metadata": {
        "id": "view-in-github",
        "colab_type": "text"
      },
      "source": [
        "<a href=\"https://colab.research.google.com/github/JungSoy/pythonbasic/blob/main/PythonDay3.ipynb\" target=\"_parent\"><img src=\"https://colab.research.google.com/assets/colab-badge.svg\" alt=\"Open In Colab\"/></a>"
      ]
    },
    {
      "cell_type": "code",
      "execution_count": 1,
      "metadata": {
        "id": "vO3zFEMYH02V"
      },
      "outputs": [],
      "source": [
        "# 조건문 if\n",
        "\n",
        "# 조건문은 특정 조건을 만족할 때 실행되는 코드를 제어한다. 개발하다보면 여러가지 상황을 처리해야 하는 경우가 발생한다. \n",
        "# 이때 조건문을 통해 실행 되거나 또는 실행되지 않는 코드를 정의할 수 있다. \n",
        "\n",
        "# if의 기본 문법\n",
        "\n",
        "# 자바에서의 if문\n",
        "# if(조건식){\n",
        "#   만족하는 경우\n",
        "# }\n",
        "\n",
        "# 파이썬에서의 기본 if문\n",
        "# if 조건식:                             # 조건식 뒤에 : 콜론을 잊지 말자. 중괄호는 사용하지 않는다.\n",
        "#   조건식을 만족하는 경우 실행코드      # 파이썬은 들여쓰기에 매우 민감하다.\n",
        "\n",
        "# 조건식에는 항상 언제나 최종값이 True와 False 만이 올 수 있다.\n",
        "# 다시 한 번 강조하지만 만약 들여쓰기를 하지 않으면 오류가 발생된다.\n",
        "\n",
        "x = 11\n",
        "if x == 10:\n",
        "  print(x)"
      ]
    },
    {
      "cell_type": "code",
      "source": [
        "a = int(input('정수를 입력하세요> '))\n",
        "\n",
        "if a == 5:\n",
        "  print(f'입력한 값은 {a} 입니다.') "
      ],
      "metadata": {
        "colab": {
          "base_uri": "https://localhost:8080/"
        },
        "id": "PIrEH8TvKUPj",
        "outputId": "930deffe-c6fc-4d82-8224-11ed7035f311"
      },
      "execution_count": 6,
      "outputs": [
        {
          "output_type": "stream",
          "name": "stdout",
          "text": [
            "정수를 입력하세요> 5\n",
            "입력한 값은 5 입니다.\n"
          ]
        }
      ]
    },
    {
      "cell_type": "code",
      "source": [
        "# 조건식을 여러 개 취급해야 하는 경우 가능하면 중첩/병렬 if문은 사용하지 말자\n",
        "x = 15\n",
        "\n",
        "if x >= 10:\n",
        "  print('x는 10 이상입니다.')\n",
        "  if x <= 20:\n",
        "    print('x는 20이하입니다.')\n",
        "  if x == 15:\n",
        "    print('x는 15입니다.')"
      ],
      "metadata": {
        "colab": {
          "base_uri": "https://localhost:8080/"
        },
        "id": "fh6vtPmXL_54",
        "outputId": "17a1114d-e3cd-4829-b07c-f11c1a5a6c24"
      },
      "execution_count": 7,
      "outputs": [
        {
          "output_type": "stream",
          "name": "stdout",
          "text": [
            "x는 10 이상입니다.\n",
            "x는 20이하입니다.\n",
            "x는 15입니다.\n"
          ]
        }
      ]
    },
    {
      "cell_type": "code",
      "source": [
        "a = int(input('숫자를 입력하세요'))\n",
        "\n",
        "if a > 5:\n",
        "  print('입력값이 5보다 큽니다. ')\n",
        "else :\n",
        "  print('입력값이 5보다 작거나 같습니다.')"
      ],
      "metadata": {
        "colab": {
          "base_uri": "https://localhost:8080/"
        },
        "id": "mOdKJUadMveo",
        "outputId": "f3a9f683-2829-494d-ef16-ba04a8b8a0dd"
      },
      "execution_count": 8,
      "outputs": [
        {
          "output_type": "stream",
          "name": "stdout",
          "text": [
            "숫자를 입력하세요6\n",
            "입력값이 5보다 큽니다. \n"
          ]
        }
      ]
    },
    {
      "cell_type": "code",
      "source": [
        "a = int(input('숫자를 입력하세요'))\n",
        "\n",
        "if a > 5:\n",
        "  print('입력값이 5보다 큽니다. ')\n",
        "elif a == 5:\n",
        "  print('입력값이 5입니다.')\n",
        "else :\n",
        "  print('입력값이 5보다 작습니다.')"
      ],
      "metadata": {
        "colab": {
          "base_uri": "https://localhost:8080/"
        },
        "id": "LZLo_w1bM5Au",
        "outputId": "987e4b89-0207-4ea9-f8b9-1d5ce42c8ed4"
      },
      "execution_count": 9,
      "outputs": [
        {
          "output_type": "stream",
          "name": "stdout",
          "text": [
            "숫자를 입력하세요7\n",
            "입력값이 5보다 큽니다. \n"
          ]
        }
      ]
    },
    {
      "cell_type": "code",
      "source": [
        "no = int(input('1부터 5사이의 값을 입력하세요'))\n",
        "\n",
        "if no < 5 and no >= 4: # 양쪽 조건을 동시에 만족\n",
        "  print('입력값은 4입니다.')\n",
        "elif no < 4 and no >= 3: # 양쪽 조건을 동시에 만족\n",
        "  print('입력값은 3입니다.')\n",
        "elif no < 3 and no >= 2: # 양쪽 조건을 동시에 만족\n",
        "  print('입력값은 2입니다.')\n",
        "elif no < 2 and no >= 1: # 양쪽 조건을 동시에 만족\n",
        "  print('입력값은 1입니다.')\n",
        "else:\n",
        "  print('입력값은 5입니다.')"
      ],
      "metadata": {
        "colab": {
          "base_uri": "https://localhost:8080/"
        },
        "id": "9ra5nIgGNYp7",
        "outputId": "b6ce47e5-185b-4dac-f4b0-8da40b06a0bf"
      },
      "execution_count": 10,
      "outputs": [
        {
          "output_type": "stream",
          "name": "stdout",
          "text": [
            "1부터 5사이의 값을 입력하세요3\n",
            "입력값은 3입니다.\n"
          ]
        }
      ]
    },
    {
      "cell_type": "code",
      "source": [
        "# q1 월을 입력하세요? 해당 계절을 출력하세요. \n",
        "# 3,4,5 봄 6,7,8여름 9 10 11 가을 12 1 2 봄"
      ],
      "metadata": {
        "id": "5tpKfNW6U1bl"
      },
      "execution_count": null,
      "outputs": []
    },
    {
      "cell_type": "markdown",
      "source": [
        "![image.png](data:image/png;base64,iVBORw0KGgoAAAANSUhEUgAAAZIAAADsCAIAAADRv7eoAAAgAElEQVR4nO3dX0wb6b038F9fHakobJrcoBir4CTGHi3nHKgCJ1JJVhuUF1tT8AWKtN2s3rO5KUoNwiKAQHvRSu9WOlEimyBb4LWo3irtUZJdKeLCsCNsRd5VsokUhZVMq1T+l2CQHBC9yJbCoXfvxRhj8Hj+eQwe5/tRLrBn5pmHSfzN8zzz+Jkfnf3X/6A8/7OzQwAAFex/HXUFAACUQWwBgM4gtgBAZxBbAKAziC0A0BnEFgDoDGILAHTmX466AqAN/+OrB95xfnA/tyn3s+RRB45VV4EDhxdWQPC8+fsUq/OBA+X8joVbcy8ljxKpIRyhiostq709bK+l6EvT3Q0ty2XdGR9dbxoNHsK51BGqIRERNfY9vnDu9Z8///Qvb4SO4z9dhZ8oOZ/JYtEgfqzgIXJCJ0ewtnJOdDjBIXhxVFwW5Qr/rm2BpJsGW65zhTuLbKpyFRdbvPjatoK9Dabw2OnE3W/7o0V2sDgjPlvM21uQCMrPpU4pNTzzk3oiWv67YGbxlGZWsaNy78sMEfnnkl+Uik3iZy8xgvPPouiyqCHwdx2a8KYiviWheBLZVOUqLrbiCy9MC9oWaQtwToYbNXpT5T+XOkVrSER0+kQ90feRlWIHC36cZPaeCom0wortryI1ilVYpO8mvw8os8LFKnaUPUGhv+uYt7eTZiM+91xBS1xkU3WruNjSHONyOih0fTB01BUpSryG9adPEK0sRsRKUPFJK9Z2OIQP7WFGwxHEUOcF/+cn5j79ev614kOL/V3HvP6gyx3w2YIF/0hENlUx6dhiXLMRlzn7ghs1lu/qtDanr9Vlf9433lQ7NNbeHX0xQO+H7bVERGvLXbfT8dzgFBERWa99mM7uv9E//HI++7Nt2GWOeQv+L1J+LslNN9b3yum+9uE0vTTd3VBfw11v/vC18w/CmyT7LEoHmNTJjwaljbUD5cjfevhtIrkJGPluJnK174+/IOXJVfzvOjThTTlcNgeFCv6diGyqWlKxxbq/oFFjE995sQWS7oirt1OwL1O66EvTMGUjoGCj1d4ejr40DW8Q1U1PNE/Z/9a1sJXt5YmMHLE2B6U8XEGFlZ9rb9PactfwizjVDo21h69tiw/nq6+hDJKj4DJv4YmXLLknP1YteKBgBQSr5Pzgvvy+W/5vwf8s0hUVzDvxu6vFaii4f6Hvf3t/5nOVyVVMjAvFXM4eloIFw1gim6qVVGxxo5171yI0x1HAYiYS/4yZR7jZEcvBd4MlDhyuLXdlA2JjPkrThmNEW5IHMRYzUSqe0O5cey2sra+jWzfsdd20MV+sHBlU1rA48WAqRyNFaZlK202FOcJnZe5NkRIO7CmnfZqfwjJrWEj75EqE5hLOHouZCv+HE9lUpaQ7iQ7fUoDNey0dPSkP2+IpoU7C1rfj6g5MpBQfKHKuvE3xtW2iYxYD0Zq6mu1SUcNdhe2OfHKmPsk5RLwCig5RfX9TqVJGtSRbiHLsJtdV42/vz4gOTcrHFG80iGyqPhKx5fAtBdhQbjKRw7cUOIRKactithLFjroWYkqooaLZkqoPEdlf6Q0+peNx4n1GkVmpKo4S3KQy/s7822//+O/1tDLzwXffKz64qFiiaDCJbKo+4rFl62GJOKVDfeXpJKoSS6SIzFYLkXa9sByr4RjRdkKgqVVrOUW0LquQUmqoYhqR5jOPlBYoOVui9DMe8SQGonOfX+3rpDf/72vnH37QrFCLrcdCccFhZZFNVUo8tlLxBFGTmSGK5XqLR9VJFLG2nSDq/lkdRQtGx7lQkNw9rNmj+f9FBtOUvTa+8Nd5ov3jXLVDY+03DPtjq2w1VDf1QcWJVJSmVUQqulMpOBCmSTVkKU8ji4gY1sZQaELo0yeyqVpJxJbH5e/hnJGkk/i5bQl3pKAZpZX8uQJkaE5PENHWndsvJqVHjjb6by+Hx/hDaP/0gtAcRwGX0+EV+lqPinO15s5C83l3BuMLf73T2j498SERxRdedEXfDxtKqqEkFW0KbZshgvfp8mlSPZE7lYpmpYr0EA/8CoW/kew7iSe6/++/k7aNrCxzD2smzi/0L0RkU9X60TvwCAxbIOl2aDDj7ODkLO2oqaGKSVslzvMqt7J27mR+fboyMa7ZiCsl9H1VsU1V7F2ILSKLM8I5yVvijLPyxZZWNYRqxLozPrOH7fUUjn6KbKpq78Z6Wwl/52CIcTkdR12Roiq/hnA0bAGfLTgoGEwim6rcu9HaAoAq8m60tgCgiiC2AEBnEFsAoDOILQDQGcQWAOgMYgsAdAaxBQA6g9gCAJ1BbAGAziC2AEBnEFsAoDOILQDQGcQWAOgMYgsAdAaxBQA6g9gCAJ1BbAGAziC2AEBnEFsAoDOILQDQGcQWAOgMYgsAdAaxBQA6g9gCAJ1BbAGAziC2AEBnEFsAoDP/ImenBuvUJNNImVtXFp8U3UpERE8XHZ6MlvXTqY624AgJXy4AKJGs2OKtbq4IvGscn2Toy28cX21qVicNdd9snb6c/Xn+s2j/oyOtTcW6bErfPJn/Bq4VVDJZsbUaH7gSF97UUX+RNu89q9jMorTp/Fsi/pPZOo1PY1Fv+8+n54+6EgByaDG2tbm6qkEpoizOSHJ2xKLsoPnPoqbP3mZfPFq/84q6//dJ0SP0yBZILgXYo64FwCGSam0Zxx+2Xcz+XGRsSynGNRtxmbMvuFHjYEj6mIT/115bhFuyDrZc50qvgoT80bq837rxo0tTHZkBD41nt27eG/rm/l5k518rIpI3xqfmauRYnBHOyST8nWW+JnwlY97eTm+qvGcCkEEqtjK3rmRu8Z/YX+a/v+8jOv7QOE5U8DEWxLq/oFFjE/+v3xZIuiMuWR+GmLfXmHBnfEsOpZ/trBrrWYo/2pHe0Tg+QreuBPmBvIsjjvHJzZWheHZcr4GZmszcuhJ8wm8asX6X3WQcf9jWmBvj62gLjsiplNqrQXlRYtQmSk5OP882RTGwBRVOwZD8Ptk4U37LjBvNaxqE5jgKWMxE8j543KiRdUY4d4bzd7L+mJL6dt80ddPOHTmxlbk1tPfiybPMeMfxRqLd2xGb94ayv2z+psaPrBdXYwOK70uovRoO31KApeDBtqd5hBPoShfsVuBR2nQ+zf9o7WPCN1vDM7Gumb1rFfP2Gr2SlQI4JGpjqwT8R26Pog5Owt/ZlAok3ZGk+XrTaFDeQfz9xPhMevKVrP072oIjxrzX+d09wYG84xc6jtPqP4TutEpRfjVsgaTbQSGhXz/lYVs8KiqRJz6TvnOZuXH5hHVmp8htGIAjdtjTTR2+pQAbut7UYmxqMTYpH6iyOCNJtyPh75SdWdY+Zvoyxfc3H0R0tAVHjE88QceVoONKsLzT0FRdjdD1ppbrXPlG4ncSr8tRLIBmDjm2bD0sEReSmTgHse4M52S4UaP8HuJlU7ivhh6lZWYW0cWfG4ky3z1VVLHN1VWihvd2R/H5QqSpvxrBwZZOb8rhW9obziciMo9wS5nkwT8K0+1k92Wi1/9EUwsq1iHHViqeIGoyM0RU2D8SxbhmMz5bcLBFwXg8P4vyUXpvGoS0ldVNouMNDURU2Fss6smzDDUYLzQQ8UP1HbLOpf5qED/exPrJNZvhnMxugR4223DL/6OoSdt909RNb/v3XzHGNZtJHohIgCMjMba1byrAcf6O4cqX3ygfe85KeVz+Hs4ZSTqJKObt7Uy4I3JmY1mcX7jIw7Z4EvLPVTPUd5KI6LIp/dyUe1fqNtnKV4v3Oi59Mun4hIhWYwNDsfHJ49Ine7o48NNLU/xRTxcdQ+9NyThK7dXI2R3pG2b9pcwLsfYx4b6a7ItHuxN0ASrVj87+63/kv/6fHZmdKQCAo4EVIABAZxBbAKAziC0A0BnEFgDoDGILAHQGsQUAOoPYKhf/46uqtwKAiCqJLau9PT3xYfpancblsu5M0u0Q2NDY9/iq/4//Vq/NaQpLw+J/AEUdwQoQ5RNf21awt8EUHjuduPttf7TIDhZnxGeLeXsFvjN45if1RLT89zeiZ5DbpBIoLTThTUV8S3QoyyIC6EuVxFZ84YVpQdsibQH+a9uCi/CdPlFP9H2k6Eo1/sdXnR/cl7tVqLSYt7eTZiM+95zstS4A3hFVEluaY1xOB4WuF/nadv3pE0QrixGxEuSPXhUrLeb1B13ugM8WVLOaK0DVqpzvJNYOjbV3R18M0Pthey0R0dpy1+10dvmU1ua0favr9vbQRHM3ERHN5zp3rc17Q1rRl6a7G5IFWu3t2Xf22egffrn76BpbIOm2ard0unjjSwTjmo24UvIXRAR4F1RWa8tqbw+vLXcNv4hT7dBYe/ja9l4MGU6HJ2j+7remKFnt7eFrzd18ykRfmoaJD6kbggVGX5qGN4jqpieap+x/61rYyvYoRca2WJuDUh5OTWYVa2QdeF9misW4UMzl7GEpiBEugF2VFVt5Laytr6NbN+x13bSRe3hfroUVj27E7XUWA9GajAKzwbcxH6VpwzGiLclaMBZzdjEs5dS1qopKhOYSzh6LmVRlKEBVqrDYWt/OLaoZX9smOpaXTRvzuWbRWrprOK20QGUSqcpZ3pOR/5QQgHdAhcVW5bCYrUSKHg7EkxyJV9EciyWQWQB7Kje2rIZjRNsJyW5gGcQSKSKz1UKkdT9R8eR4i63HQnE8VBUgT6XOkjeYpuy18YX0vPSuaq1tJ4i6fyY0sZ4LBcncwx790ukMa2MoNIfxeIA8Fdbaam1OT2R/nBeZv55n32wGA3/41p3bLyalm2kb/beXw2O5M+ZPgAjNcRRwOR1eZTMP+MaUSJNKYQ/R3MOaifNj9gNAvsqat3VjPX/i1dGyBZJuBzeq4EFBWsOkLQBBldpJPHqh66w/xrqP7ClbrDviIg+LzAI4CLFVXMLfORhiXE6hFSDKzRbw2YKDvUoesAbwrqicTiIAgCxobQGAziC2AEBnEFsAoDOILQDQGcQWAOgMYgsAdAaxBQA6U8J3Eo3jD9suZn/O3Lqy+OTA9gbr1CTTKLhpbysRET1ddHgy6itSNTragiMkfLkAIKeE2MrcupK5RdT40aWpXxbfa3VT6PE2xvFJhr78xvHVpvrzl8tlU/rmyfw35j+L9j86qtpUNGsfE+6ryb54tdb18XrlrK0IVayMK0CsxgeuFPlX3FF/kTbvPavAzMp623++nGvmVAVrHxPu2+k/H5snIjo5/dwUvvlP02dvj7peUP2Obmxrc3W13KewOCPJ2RFLuU+jR6U/9brmF5dr6NEPu+H+dnJmhy6f6NagbgASZLS2pMawtDlECuOa3VuMQeZ6Mgn/r722CLdkPZRnO+eP1uX91o0fXZrqyAx4aDy7dfPe0Df39yI7/1oRkbwxPjVXI8fijHBOJuHvLOma7CReE535sZWIb1JbztbQq7f5X/3mKxnT7rltADyp2DKOP2wjT9DxlIjo4ohj/CGRdAwVG/ba9xEdf2gcJyr4GAti3V/QqLGJ/9dvCyTdEZesD0PM22tMuDO+JYUrZ52cfp4d3pI7sGUcH6FbV4L8QN7FEcf45ObKUDw7rtfATE1mbl0JPuE3jVi/y24yjj9sa8yN8XW0BUfk1E7t1aC8KBF+2rYS8zNr8QeG8APq+nid+pjpyzt3MLYFh0I8tho/sl5cjQ08zb588lXsagdzoWPxyVPRw4rKxpnyW2bcaF7TIDTHUUD+w2y4USPrjHDuDOfvZP3ST7V4lDadzz4WyNrHhG+2hmdiXTNSC2Nkbg3tvXjyLDPecbyRaPd2xOa9oewvm78pe3kV35dQezUcvqUAS8GDbU/zCCfQlS7YrcCr9a7zPww9YMLPDYKjgTFvr9ErWSkAxSRiq+E4NTBTD5n8N4XuDJYf/5Hbo6iDk/B3NqUCSXckaVa0WGh8Jn3nMnPj8gnrzI5kO6KjLThizHud390THMg7fqHjOK3+Q831VH41bIGk20EhoV8/5WFbPCoqcfZU+IGBZmKmj3e6b7ZOPz8Zl5PvACWTHtuqhElVDt9SgN37yDl8SwFFx+dGc+S0tvbhR3Ck9+toC44Yn3iCt57mXio7kQKqrkboelPLnG8pkFzq0Wakr2bovwzWR2nTzA7xXembrdN9p7pncAcWyk78TuLK6iZ11F8U3ecQ2HpY/mk6qrDuDOdkuFGj4swiopPdl4le/1OqqXXx50aizHfK+s6bq6tEDe/tjuLzhUhTfzWCgy2d3pTDt7R/pWnzCLeUSR78I3WfscZ6luKv9tpWiVc7RDWWs8qrBaCQRGw9y6yQcXxE1sepfFLxBFGTme+qHuwfiWJcsxmfLTjYou5JFt03Td30tl96LtLK6ibR8YYGIirsLRb15FmGGowXGoj4ofoOWZVSfzWIH29i/eSazXDO3a5/ysO2GJsO/pFqke3EX5G179TujIeTQ3019Ort16/29mBcs5nk0pEtxg/VS6KTuBofGKKpybZgR9vuW7u39vfd7z/O3xZc+fKbga82xTapkvK4/D2cM5J0ElHM29uZcEfkzMayOL9wkYdtUbQi+76Z34/SpvNy5k+ufLV4r+PSJ5OOT4hoNTYwFBufPC592NPFgZ9emuKPerroGHpvSsZRaq9Gzu5I3zDrL6G3uDP5cYweMLlbrvQojbmmcDiwljwA6AxWgAAAnUFsAYDOILYAQGcQWwCgM4gtANAZxBYA6EwZlwkEIvI/vsr/4Pzg/oH3D7yTv3MxhYcAvIOqJLas9vawvZaiL013N7Qsl3VnfCT09ePGvscXzr3+8+ef/uVNkUP5DOKDxv/4qmBOHSC+w/5QK6yALZB006GsLAZwtKoktnjxtW0FextM4bHTibvf9keL7GBxRny2mLdX4Nt/Z35ST0TLfxfJrPwMcn5wX7IlRVKtrX2hJlCB0IQ3FfEtIbmg6lVJbMUXXpgWtC3SFuC/gC24nN7pE/VE30dUruFTrIeooA8oVIGYt7eTZiM+95ySxXkAdKdKYktzjMvpoND1Il/Arj99gmhlMSJ8bLEAkmxwyW9tFatAzOsPutwBny2o6qvjALpQOd9JrB0aa++Ovhig98P2WiKiteWu2+nsijGtzWn7Vtft7aGJZn7Jgflc5661OX2tLlvGvrGtogVmB8IO2ugffrm7VpQtkHRb1S6CLtmYUtawUohxzUZcKUWrIQLoS2W1tqz29vDactfwizjVDo21h69t78WQ4XR4gubvfmuKktXeHr7W3M2nTPSlaZj4kLohWGD0pWl4g6hueqJ5yv63roWtbI9SZGyLtTko5eEOKbPkDHuR7NuIMS4Uczl7WApihAuqVGXFVl4La+vr6NYNe103beRWy8y1sOLRjbi9zmIgWpNRYDb4NuajNG04RrQlWQvGYs4ua3UoNG55JUJzCWePxUyqYheg8lVYbK1v59YRja9tEx3Ly6aN+VyzaC3dNZxWWqAyiZRWD6Hhm1cym1RaYeQ/IgRAbyostiqHxWwlUr6Is7Bcx/DQZpnGEsgsqFqVG1tWwzGi7YRkN7AMYokUkdlqISq5nyhz9F1kH8XNNIutx0JxPFEVqlelfifRYJqy18YXyvkYmLXtBFH3z+oENnGhIJl72FIXQS/rHcNiGNbGUGgO4/FQvSqstdXanJ7I/jgvMn89z77ZDAb+8K07t19MSjfTNvpvL4fHcmfMnwARmuMo4HI6vGqmEaj4HqJIk0ph8Jl7WDNxfsx+gCpWWfO2bqxr/aVC9WyBpNvBjap75I+gQ2h8YdIWvAsqtZN49ELXWX+MdWv4vKyydxhZd8RFHhaZBVUOsVVcwt85GGJcTsdRV0QeW8BnCw72Knq6GoAeVU4nEQBAFrS2AEBnEFsAoDOILQDQGcQWAOgMYgsAdAaxBQA6g9gCAJ0p4TuJxvGHbRezP2duXVl8cmB7g3VqkmkU3LS3lYiIni46PBn1FakaHW3BERK+XACQU0JsZW5dydwiavzo0tQvi++1uin0eBvj+CRDX37j+GpT/fnLx9rHhPtqsi9erXV9vK7VkoHVJ3utHqVNn72VvwmgFGXsJK7GB64EHUNxgdjqqL9Im0+eVW5m7fSfj5rOR03n0/NnDeGbJ4+6UhXp7Knw89YpWr/zSskmgJId3djW5upquU9hcUaSsyMWRcfU/OJyDT36YXcFm7eTMzt0+US39pU7WrZAcinAllLCyekHJ+c/jnbNFH4bTGQTgAZkdBKlxrC0OUQK45rdW4xB5noyCf+vvbYIt2RV8KDmncRrojM/thLxHUPL2Rp69VbO15PzR+vyfuvGjy5NdWQGPDSe3bp5b+ib+3uRnX+tiEjeGJ+aq5FjcUY4J5Pwd5a0lODb/vPFun4im7L4+sfUPtIN3nFSsWUcf9hGnqDjKRHRxRHH+EMi6RgqNuy17yM6/tA4TlTwMRbEur+gUWMT/0/cFki6Iy5Z/+Jj3l5jwp3xLclfOWt+Zi3+wBB+QF0fr1MfM315546csS3j+AjduhLke8QXRxzjk5sruQ5yAzM1mbl1JfiE3zRi/S67yTj+sK0xN8bX0RYckVNFtVeD8vJC+GnbAHogHluNH1kvrsYGnmZfPvkqdrWDudCx+OSp6GFFZeNM+S0zbjSvaRCa4ygg/8k03KiRdUY4d4bzd7J+6adavFrvOv/D0AMm/NxA9Lb/vLyFoTO3hvZePHmWGe843ki0O663eW8o+8vmb8peXsX3JdReDYdvKcBS8GDb0zzCCXSlC3bTUszba/SWq3CoehKx1XCcGpiph0z+m0J3BsuP/8jtUfSJSvg7m1KBpDuSNEuv/Hn2VPiBgWZipo93um+2Tj8/GZ+JyRmm6WgLjhjzXud39wQH8o5f6DhOq/9Qcz2VXw1bIOl2UEjo10952BaPikoAHBHpsa1KmFTl8C0F2L2PnMO3FFB0fG40R7q1VTP0Xwbro7RpZoeI5j+L9t9sne471T0j0ebqaAuOGJ94gree5l4qqqESqq5G6HpTy5xvKZBc6ilnMwrgEIjfSVxZ3aSO+oui+xwCWw/LP01HFdad4ZwMN2qU00OkGutZir/aa1slXu0Q1VjOih918edGosx3yvrOm6urRA3v7Y7i84VIU381goMtnd6Uw7e0f6Vp8wi3lEke/FPafUaAMpKIrWeZFTKOj8j6OJVPKp4gajLzXdWD/SNRjGs247MFB1tk32vbib8ia9+p3RkPJ4f6aujV268l5h+trG4SHW9oIKLC3mJRT55lqMF4oYGIH6rvkFVD9VeD+EEl1k+u2Qzn3O36pzxsi7Hp4J+ytsgY12wmuaThOv3wTpHoJK7GB4ZoarIt2NG2+9burf199/uP87cFV778ZuCrTbFNqqQ8Ln8P54wknUQU8/Z2JtwRObOxLM4vXORhW5Qsr74z+XGMHjDTz3enmMqa5L3y1eK9jkufTDo+IaLV2MBQbHzyuPTJni4O/PTSFH/U00XH0HtTMo5SezVydkf6hll/KdnUfbN1+vLui7Om9HMT0c6dj2OTr8Q2AZQOa8kDgM5gBQgA0BnEFgDoDGILAHQGsQUAOoPYAgCdQWwBgM6UsLopFOd/fLXwTecH93Nbcz/LPDb/cIB3XJXEltXeHrbXUvSl6e6GluWy7oyPhL5+3Nj3+MK513/+/NO/vBE6rjBiioVR4T6C8eR/fHV/2BVWwBZIugnfN4R3QFV1EuNr2wr2NpjCEx9OtxbfweKM+Gwxr1/g239nflJPRMt/F8ysUhRrUh18X6ACoQlvSul3fQD0qEpaW/GFF6YFbYu0BfgvYAsup3f6RD3R9xG5a87kN5TEe4jFDqcDySVUgZi3t5NmIz73nOTiPAB6ViWxpTnG5XRQ6HqRL2DXnz5BtLIY0fikzg/uiw+KSVYg5vUHXe6AzxZUtEwzgK5UzncSa4fG2rujLwbo/bC9lohobbnrdjq7GnJrc9q+1XV7e2iimV+bYf7ut/3R3U3X6rJl7BvbKlpgdiDsoI3+4Ze7i2rZAkm3VaOVzg80r1S0thRhXLMRV0p6NUQA3aqs1pbV3h5eW+4afhGn2qGx9vC17b0YMpwOT9D83W9NUbLa28PXmrv5lIm+NA0TH1I3BAuMvjQNbxDVTU80T9n/1rWwle1RGkzhsdOJXPzlY20OSnk47Vdb5xtThUEm51iZYRfjQjGXs4elIMbmoUpVVmzltbC2vo5u3bDXddNGblnRXAsrHt2I2+ssBqI1GQVmg29jPkrThmNEW5K1YCzm7LJWJStsWxWmj8aNr0RoLuHssZipDLELUAkqLLbWt3PPyImvbRMdy8umjflcs2gt3TWcVlqgMolU6U+ilt8fFG9wqcg1Rv4jQgD0psJiq3JYzFYiGYs4F1WYWSIppmL2qbhYApkFVatyY8tqOEa0nZDsBpZBLJEiMlstRKr6iSKzRkX214zF1mOhOB6DCNWrUmPLYJqy18YX/irrGYXqrG0niLp/VkfRgon1XChI7h7W7FHYZlEaWDkaDm8xrI2h0ATG46F6VVhstTanJ7I/zgve4yuwbzaDgT98687tF5PSzbSN/tvL4bHcGfMnQITmOAq4nA6vsmkE4n29Yt/a0XRI3tzDmokTmtkPUC0qa97WjXWtv1Soni2QdDu4UdmP/FFJsoeoKNQwaQveBRXW2qogoeus38q5Iy5tJp0Wo2VTi3VHXORhkVlQ5arqq9QaS/g7B0OMy+k46orIYwv4bMHBXiVPVwPQpcrpJAIAyILWFgDoDGILAHQGsQUAOiN2J/GMqeHQ6gEAIBNaWwCgM4gtANAZxBYA6EwJs+RP/MptOpf9+Yffj6a/16RCAADiSoitH34/ukRE9Tbrb2ya1QcAQAI6iQCgM4gtANAZGZ1EdWNY+UfR939a+n1UcFNBgWc+nf7va6bXd/v/zx/lrRYPAO8Yqdg68Su3if60xC/Yd+4/W37lNslIrpruUdO5aLr/Tz9oVCh5uToAAAUFSURBVCAAwC7xTmK97dS5tfXcE3O+D6+/oRPnWiVL/XG9gd6s/1NNga//2H/hcjeaWgBQjHhrq/5UDRlqfuM+lf/mG+lSf5gP7fzGZp220ZtQ/HehvbVw1BYIALBLemxLuK8n4U0o3h/i50YUhJeqAgEAssQ7iW/Wd6j15DnRfcQOD8X7R5d+F9qpt506p0WBAABSsbX0wxs68av/PFHKKepP1dDazhuZBZ75dPq7R/P//amplFMCQBWT6CSurf/OTb8ZNU3vjZrvTlkwnPrN6Kn67Js1v3K3EO12Bvdt4gtZfyNZIACAHGJryWO9LQCoQJglDwA6g9gCAJ1BbAGAzogNyb9Orx5aPQAAZEJrCwB0BrEFADpTwuqmUJz/8dXCN50f3M/fIf+l5LEHDgd4l1VJbFnt7WF7LUVfmu5uaFku68746HrTaPDghsa+xxfOvf7z55/+RfCL4IURUyyMCvcRjCf/46v7k66wArZA0k2DLdc5yfMA6FtVdRLja9sK9jaYwhMfTouswmNxRny2mNdfkFlEZ35ST0TLf9d88YpiTaqD7wtUIDThTTl8SwFW6zoBVJgqaW3FF16YFrQt0hbgnAw3avSmBDaePlFP9H1kRWZZB7qEIj3EYofTgeQSqkDM29tJsxGfe06geQhQPaoktjTHuJwOCl0fDAlurT99gmhlMaKsTMl+ovOD+5KDYuIViHn9QZc74LMFi9QcoAqIfSfxcNUOjbV3R18M0Pthey0R0dpy1+10nN/Y2py2b3Xd3h6aaO4mIqL5u9/y6zpTa3P6Wl22jH1jW0ULzA6EHbTRP/xyPvuzLZB0W729nYJNLYUK21ZKW1uKMK7ZiCslNB4HUCUqq7VltbeH15a7hl/EqXZorD18bXsvhgynwxM0f/dbU5Ss9vbwteZuPmWiL03DxIfUDcECoy9NwxtEddMTzVP2v3UtbGV7lAZTeOx0Ihd/+Vibg1IeToPMKiSYYnIOlJl0MS4Uczl7WApibB6qVGXFVl4La+vr6NYNe103bey2gPZaWPHoRtxeZzEQrckoMBt8G/NRmjYcI9qSrAVjMROl4gm1v0UeOQ0rwduO6ptjidBcwtljMVN5YhfgyFVYbK1vx3d/jK9tEx3Ly6aN3JMzaC3dNSzvGRl5BSqTSKk8ME8ufWS2pzTEJ+8hnxTgcFRYbFUOi9lKFCuhgPwWU+4HwWaUYKjlv6mi5RVLILOgalVubFkNx4i2E5LdwDKIJVJEZquFSFU/UWTWqCDxPRW31Cy2HgvFtbiZAFCZKjW2DKYpe2184a/z0ruqtbadIOr+WR1FCybWc6EguXtYs0dhm0VpYOUfVYzS0hjWxlBoAuPxUL0qLLZam9MT2R/nBe/xFdg3m8HAH7515/aLSelm2kb/7eXwWO6M+RMgQnMcBVxOh1fZNALJdpPGo+8CzD2smTihmf0A1aKy5m3dWNf6S4Xq2QJJt4MbNWo3b1P+wFY+RaGGSVvwLqiw1lYFCV1n/VbOHXFpM+mUigSQlk0t1h1xkYdFZkGVq6qvUmss4e8cDDEup+OoKyKPLeCzBQd7PVpMNwOoZJXTSQQAkAWtLQDQGcQWAOgMYgsAdAaxBQA6g9gCAJ1BbAGAziC2AEBnEFsAoDOILQDQGcQWAOgMYgsAdAaxBQA6g9gCAJ1BbAGAziC2AEBnEFsAoDOILQDQGcQWAOgMYgsAdOb/A+7Da2hY9jK2AAAAAElFTkSuQmCC)"
      ],
      "metadata": {
        "id": "_r3WILd9U2tK"
      }
    },
    {
      "cell_type": "code",
      "source": [
        "# if statement 조건 구문\n",
        "\n",
        "# 정수 하나를 입력 받아서 그 수가 홀수 인지 짝수 인지를 알려주는 프로그램을 만드세요\n",
        "\n",
        "no = int(input('정수를 입력하세요'))\n",
        "\n",
        "if no % 2 == 0:\n",
        "  print(f'입력하신 {no}은 짝수 입니다. ')\n",
        "else:\n",
        "  print(f'입력하신 {no}은 홀수 입니다. ')\n"
      ],
      "metadata": {
        "colab": {
          "base_uri": "https://localhost:8080/"
        },
        "id": "t8GblniEVALQ",
        "outputId": "c7e02776-2e77-4b52-b7d6-9c2db7530849"
      },
      "execution_count": 11,
      "outputs": [
        {
          "output_type": "stream",
          "name": "stdout",
          "text": [
            "정수를 입력하세요2\n",
            "입력하신 2은 짝수 입니다. \n"
          ]
        }
      ]
    },
    {
      "cell_type": "code",
      "source": [
        "# 조건부 표현식  if expression  조건 표현식\n",
        "# 자바의 삼항연산자와는 달리 if 를 사용하여 표현한다. \n",
        "\n",
        "no = int(input('정수를 입력하세요'))\n",
        "\n",
        "\n",
        "answer = '짝수' if no % 2 == 0 else \"홀수\"   # True출력값      if 조건식     else False출력값\n",
        "print(f'입력하신 {no}은 {answer}입니다')"
      ],
      "metadata": {
        "colab": {
          "base_uri": "https://localhost:8080/"
        },
        "id": "4LzmsT_LVpBk",
        "outputId": "7121a3f4-180a-45a4-95a7-2797bfa91300"
      },
      "execution_count": 12,
      "outputs": [
        {
          "output_type": "stream",
          "name": "stdout",
          "text": [
            "정수를 입력하세요5\n",
            "입력하신 5은 홀수입니다\n"
          ]
        }
      ]
    },
    {
      "cell_type": "code",
      "source": [
        "# if 와  in 연산자\n",
        "list1 = ['봄','가을']\n",
        "\n",
        "input1 = input('어느 계절을 좋아하시나요? ')\n",
        "\n",
        "if input1 in list1:\n",
        "  print(f'{input1}은 여행 가능한 계절니다. ')\n",
        "else:\n",
        "  print(f'{input1}은 여행이 불가능한 계절입니다. ')"
      ],
      "metadata": {
        "colab": {
          "base_uri": "https://localhost:8080/"
        },
        "id": "xSsSrbzfW-Na",
        "outputId": "09c222ad-e7bd-4491-dc7a-3deecfe77f86"
      },
      "execution_count": 13,
      "outputs": [
        {
          "output_type": "stream",
          "name": "stdout",
          "text": [
            "어느 계절을 좋아하시나요? 봄\n",
            "봄은 여행 가능한 계절니다. \n"
          ]
        }
      ]
    },
    {
      "cell_type": "code",
      "source": [
        "# 성적을 입력 받아서 59점 까지는 F학점\n",
        "# 69점까지는 D학점\n",
        "# 79점까지는 C학점\n",
        "# 89점까지는 B학점\n",
        "# 100점까지는 A학점을 \n",
        "# '당신의 점수 {}는 {}학점입니다.'\n"
      ],
      "metadata": {
        "id": "eW9QQOaGZFh5"
      },
      "execution_count": null,
      "outputs": []
    },
    {
      "cell_type": "markdown",
      "source": [
        "![image.png](data:image/png;base64,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)"
      ],
      "metadata": {
        "id": "6VLU9VNNbHTM"
      }
    },
    {
      "cell_type": "code",
      "source": [
        "# 반복문 While For\n",
        "\n",
        "# While 은 반복횟수가 불명확할때 주로 사용되고 \n",
        "# For 문은 반복횟수가 명확할때 주로 사용된다. \n",
        "\n",
        "# 예를 들어 'ht' 10번 반복하여 출력하고자한다. \n",
        "print('ht') \n",
        "print('ht') \n",
        "print('ht') \n",
        "print('ht') \n",
        "print('ht') \n",
        "print('ht') \n",
        "print('ht') \n",
        "print('ht') \n",
        "print('ht') \n",
        "print('ht') \n",
        "\n",
        "# 10번의 경우에는 위와같이 10번 반복할수 있다. 하지만 1000번이라면 무모하다. "
      ],
      "metadata": {
        "colab": {
          "base_uri": "https://localhost:8080/"
        },
        "id": "uWv8QmPDbJdf",
        "outputId": "22c5f144-65aa-415a-bc10-69b0ef3fc1f9"
      },
      "execution_count": 14,
      "outputs": [
        {
          "output_type": "stream",
          "name": "stdout",
          "text": [
            "ht\n",
            "ht\n",
            "ht\n",
            "ht\n",
            "ht\n",
            "ht\n",
            "ht\n",
            "ht\n",
            "ht\n",
            "ht\n"
          ]
        }
      ]
    },
    {
      "cell_type": "code",
      "source": [
        "for i in range(10): \n",
        "  print('ht')\n",
        "\n",
        "  #range는 인수 3개가 기본이다. range(start, stop, step)\n",
        "  #start 생략가능 0에서 시작 step 생략가능 하나씩 증가. "
      ],
      "metadata": {
        "colab": {
          "base_uri": "https://localhost:8080/"
        },
        "id": "fMF5dd3geO0P",
        "outputId": "7c8f94b3-ce9a-48e5-f489-3144145df5a6"
      },
      "execution_count": 15,
      "outputs": [
        {
          "output_type": "stream",
          "name": "stdout",
          "text": [
            "ht\n",
            "ht\n",
            "ht\n",
            "ht\n",
            "ht\n",
            "ht\n",
            "ht\n",
            "ht\n",
            "ht\n",
            "ht\n"
          ]
        }
      ]
    },
    {
      "cell_type": "code",
      "source": [
        "list1 = [10,30,20,50]\n",
        "\n",
        "for i in list1:\n",
        "  print(i)"
      ],
      "metadata": {
        "colab": {
          "base_uri": "https://localhost:8080/"
        },
        "id": "-JfyRTuaeS7N",
        "outputId": "7c6b8d0d-e464-46b4-a008-79fc6f955e74"
      },
      "execution_count": 16,
      "outputs": [
        {
          "output_type": "stream",
          "name": "stdout",
          "text": [
            "10\n",
            "30\n",
            "20\n",
            "50\n"
          ]
        }
      ]
    },
    {
      "cell_type": "code",
      "source": [
        "list1 = [10,30,20,50]\n",
        "\n",
        "for i in range(4):\n",
        "  print(list1[i])"
      ],
      "metadata": {
        "colab": {
          "base_uri": "https://localhost:8080/"
        },
        "id": "idK0oQ0VeVBu",
        "outputId": "d808c969-bbc5-4b57-bacb-7d28f1216980"
      },
      "execution_count": 17,
      "outputs": [
        {
          "output_type": "stream",
          "name": "stdout",
          "text": [
            "10\n",
            "30\n",
            "20\n",
            "50\n"
          ]
        }
      ]
    },
    {
      "cell_type": "code",
      "source": [
        "# 리스트와 for문을 이용하여 1~100까지의 합 구하기(ChatGPT)\n",
        "\n",
        "numbers = list(range(1, 101))\n",
        "sum = 0\n",
        "for number in numbers:\n",
        "    sum += number\n",
        "print(\"The sum is\", sum)"
      ],
      "metadata": {
        "colab": {
          "base_uri": "https://localhost:8080/"
        },
        "id": "bjFlG6eueYhr",
        "outputId": "b3637162-99dc-4817-a69c-d4b63779e5b4"
      },
      "execution_count": 18,
      "outputs": [
        {
          "output_type": "stream",
          "name": "stdout",
          "text": [
            "The sum is 5050\n"
          ]
        }
      ]
    },
    {
      "cell_type": "code",
      "source": [
        "# 2중 for 문\n",
        "\n",
        "for x in range(2,10):\n",
        "  for y in range(1,10):\n",
        "    print(x , \"*\", y, \"=\", x*y , end=\" \\t\")\n",
        "  print(\"\")\n",
        "\n",
        "# 단별로 옆으로 한줄로 찍기"
      ],
      "metadata": {
        "colab": {
          "base_uri": "https://localhost:8080/"
        },
        "id": "zlaDJLxYkfAg",
        "outputId": "b92bc582-aa71-4bbc-860c-ec418ed93d47"
      },
      "execution_count": 19,
      "outputs": [
        {
          "output_type": "stream",
          "name": "stdout",
          "text": [
            "2 * 1 = 2 \t2 * 2 = 4 \t2 * 3 = 6 \t2 * 4 = 8 \t2 * 5 = 10 \t2 * 6 = 12 \t2 * 7 = 14 \t2 * 8 = 16 \t2 * 9 = 18 \t\n",
            "3 * 1 = 3 \t3 * 2 = 6 \t3 * 3 = 9 \t3 * 4 = 12 \t3 * 5 = 15 \t3 * 6 = 18 \t3 * 7 = 21 \t3 * 8 = 24 \t3 * 9 = 27 \t\n",
            "4 * 1 = 4 \t4 * 2 = 8 \t4 * 3 = 12 \t4 * 4 = 16 \t4 * 5 = 20 \t4 * 6 = 24 \t4 * 7 = 28 \t4 * 8 = 32 \t4 * 9 = 36 \t\n",
            "5 * 1 = 5 \t5 * 2 = 10 \t5 * 3 = 15 \t5 * 4 = 20 \t5 * 5 = 25 \t5 * 6 = 30 \t5 * 7 = 35 \t5 * 8 = 40 \t5 * 9 = 45 \t\n",
            "6 * 1 = 6 \t6 * 2 = 12 \t6 * 3 = 18 \t6 * 4 = 24 \t6 * 5 = 30 \t6 * 6 = 36 \t6 * 7 = 42 \t6 * 8 = 48 \t6 * 9 = 54 \t\n",
            "7 * 1 = 7 \t7 * 2 = 14 \t7 * 3 = 21 \t7 * 4 = 28 \t7 * 5 = 35 \t7 * 6 = 42 \t7 * 7 = 49 \t7 * 8 = 56 \t7 * 9 = 63 \t\n",
            "8 * 1 = 8 \t8 * 2 = 16 \t8 * 3 = 24 \t8 * 4 = 32 \t8 * 5 = 40 \t8 * 6 = 48 \t8 * 7 = 56 \t8 * 8 = 64 \t8 * 9 = 72 \t\n",
            "9 * 1 = 9 \t9 * 2 = 18 \t9 * 3 = 27 \t9 * 4 = 36 \t9 * 5 = 45 \t9 * 6 = 54 \t9 * 7 = 63 \t9 * 8 = 72 \t9 * 9 = 81 \t\n"
          ]
        }
      ]
    },
    {
      "cell_type": "code",
      "source": [
        "for i in range(1, 10):\n",
        "    for j in range(1, 10):\n",
        "        print(f\"{i} x {j} = {i*j:2}\", end=\"  \")\n",
        "    print()"
      ],
      "metadata": {
        "colab": {
          "base_uri": "https://localhost:8080/"
        },
        "id": "UMaZSg5AkgnB",
        "outputId": "16454187-7704-408b-820e-bcb14b6f413f"
      },
      "execution_count": 20,
      "outputs": [
        {
          "output_type": "stream",
          "name": "stdout",
          "text": [
            "1 x 1 =  1  1 x 2 =  2  1 x 3 =  3  1 x 4 =  4  1 x 5 =  5  1 x 6 =  6  1 x 7 =  7  1 x 8 =  8  1 x 9 =  9  \n",
            "2 x 1 =  2  2 x 2 =  4  2 x 3 =  6  2 x 4 =  8  2 x 5 = 10  2 x 6 = 12  2 x 7 = 14  2 x 8 = 16  2 x 9 = 18  \n",
            "3 x 1 =  3  3 x 2 =  6  3 x 3 =  9  3 x 4 = 12  3 x 5 = 15  3 x 6 = 18  3 x 7 = 21  3 x 8 = 24  3 x 9 = 27  \n",
            "4 x 1 =  4  4 x 2 =  8  4 x 3 = 12  4 x 4 = 16  4 x 5 = 20  4 x 6 = 24  4 x 7 = 28  4 x 8 = 32  4 x 9 = 36  \n",
            "5 x 1 =  5  5 x 2 = 10  5 x 3 = 15  5 x 4 = 20  5 x 5 = 25  5 x 6 = 30  5 x 7 = 35  5 x 8 = 40  5 x 9 = 45  \n",
            "6 x 1 =  6  6 x 2 = 12  6 x 3 = 18  6 x 4 = 24  6 x 5 = 30  6 x 6 = 36  6 x 7 = 42  6 x 8 = 48  6 x 9 = 54  \n",
            "7 x 1 =  7  7 x 2 = 14  7 x 3 = 21  7 x 4 = 28  7 x 5 = 35  7 x 6 = 42  7 x 7 = 49  7 x 8 = 56  7 x 9 = 63  \n",
            "8 x 1 =  8  8 x 2 = 16  8 x 3 = 24  8 x 4 = 32  8 x 5 = 40  8 x 6 = 48  8 x 7 = 56  8 x 8 = 64  8 x 9 = 72  \n",
            "9 x 1 =  9  9 x 2 = 18  9 x 3 = 27  9 x 4 = 36  9 x 5 = 45  9 x 6 = 54  9 x 7 = 63  9 x 8 = 72  9 x 9 = 81  \n"
          ]
        }
      ]
    },
    {
      "cell_type": "code",
      "source": [
        "def print_multiplication_table(n):\n",
        "    for i in range(1, 10):\n",
        "        print(n, \"x\", i, \"=\", n*i, end=\"\\t\")\n",
        "    print()\n",
        "\n",
        "for i in range(2, 10):\n",
        "    print(\"***\", i, \"단 ***\")\n",
        "    print_multiplication_table(i)"
      ],
      "metadata": {
        "colab": {
          "base_uri": "https://localhost:8080/"
        },
        "id": "DICFFQRHkllq",
        "outputId": "1c03a1f9-91fe-43a1-df74-7222092d507b"
      },
      "execution_count": 21,
      "outputs": [
        {
          "output_type": "stream",
          "name": "stdout",
          "text": [
            "*** 2 단 ***\n",
            "2 x 1 = 2\t2 x 2 = 4\t2 x 3 = 6\t2 x 4 = 8\t2 x 5 = 10\t2 x 6 = 12\t2 x 7 = 14\t2 x 8 = 16\t2 x 9 = 18\t\n",
            "*** 3 단 ***\n",
            "3 x 1 = 3\t3 x 2 = 6\t3 x 3 = 9\t3 x 4 = 12\t3 x 5 = 15\t3 x 6 = 18\t3 x 7 = 21\t3 x 8 = 24\t3 x 9 = 27\t\n",
            "*** 4 단 ***\n",
            "4 x 1 = 4\t4 x 2 = 8\t4 x 3 = 12\t4 x 4 = 16\t4 x 5 = 20\t4 x 6 = 24\t4 x 7 = 28\t4 x 8 = 32\t4 x 9 = 36\t\n",
            "*** 5 단 ***\n",
            "5 x 1 = 5\t5 x 2 = 10\t5 x 3 = 15\t5 x 4 = 20\t5 x 5 = 25\t5 x 6 = 30\t5 x 7 = 35\t5 x 8 = 40\t5 x 9 = 45\t\n",
            "*** 6 단 ***\n",
            "6 x 1 = 6\t6 x 2 = 12\t6 x 3 = 18\t6 x 4 = 24\t6 x 5 = 30\t6 x 6 = 36\t6 x 7 = 42\t6 x 8 = 48\t6 x 9 = 54\t\n",
            "*** 7 단 ***\n",
            "7 x 1 = 7\t7 x 2 = 14\t7 x 3 = 21\t7 x 4 = 28\t7 x 5 = 35\t7 x 6 = 42\t7 x 7 = 49\t7 x 8 = 56\t7 x 9 = 63\t\n",
            "*** 8 단 ***\n",
            "8 x 1 = 8\t8 x 2 = 16\t8 x 3 = 24\t8 x 4 = 32\t8 x 5 = 40\t8 x 6 = 48\t8 x 7 = 56\t8 x 8 = 64\t8 x 9 = 72\t\n",
            "*** 9 단 ***\n",
            "9 x 1 = 9\t9 x 2 = 18\t9 x 3 = 27\t9 x 4 = 36\t9 x 5 = 45\t9 x 6 = 54\t9 x 7 = 63\t9 x 8 = 72\t9 x 9 = 81\t\n"
          ]
        }
      ]
    },
    {
      "cell_type": "code",
      "source": [
        "# While \n",
        "\n",
        "# while  조건식:\n",
        "#   수행시킬 구문\n",
        "\n",
        "\n",
        "# while True:  # 조건에 True 따라서 무한 반복\n",
        "#   print(\"hi\")"
      ],
      "metadata": {
        "id": "Bh9NXBTQmlbG"
      },
      "execution_count": null,
      "outputs": []
    },
    {
      "cell_type": "code",
      "source": [
        "i = 10\n",
        "while i > 5:\n",
        "  print('hi')\n",
        "  i -= 1  #  파이썬은 자바처럼 i++ 즉 증감연산자는 사용하지 않는다. i = i + 1"
      ],
      "metadata": {
        "colab": {
          "base_uri": "https://localhost:8080/"
        },
        "id": "ZjCjUp3EkpH9",
        "outputId": "63418f7d-3844-4884-c550-5e35511ccbd3"
      },
      "execution_count": 22,
      "outputs": [
        {
          "output_type": "stream",
          "name": "stdout",
          "text": [
            "hi\n",
            "hi\n",
            "hi\n",
            "hi\n",
            "hi\n"
          ]
        }
      ]
    },
    {
      "cell_type": "code",
      "source": [
        "import random\n",
        "\n",
        "temp_no = 0\n",
        "while temp_no != 3: # 3이 나올때까지 반복하여 난수 발생\n",
        "  temp_no = random.randint(1,6) # random은 끝 숫자 6도 포함된다.미만이 아닌 이하 (random 외에는 미만) \n",
        "\n",
        "  print(f'발생된 난수는 {temp_no}입니다.')\n"
      ],
      "metadata": {
        "colab": {
          "base_uri": "https://localhost:8080/"
        },
        "id": "m9D31D1_mqC3",
        "outputId": "2dd9a966-4455-4e6f-88c3-e463ab32ace4"
      },
      "execution_count": 23,
      "outputs": [
        {
          "output_type": "stream",
          "name": "stdout",
          "text": [
            "발생된 난수는 5입니다.\n",
            "발생된 난수는 2입니다.\n",
            "발생된 난수는 5입니다.\n",
            "발생된 난수는 5입니다.\n",
            "발생된 난수는 6입니다.\n",
            "발생된 난수는 2입니다.\n",
            "발생된 난수는 5입니다.\n",
            "발생된 난수는 4입니다.\n",
            "발생된 난수는 1입니다.\n",
            "발생된 난수는 1입니다.\n",
            "발생된 난수는 4입니다.\n",
            "발생된 난수는 2입니다.\n",
            "발생된 난수는 2입니다.\n",
            "발생된 난수는 4입니다.\n",
            "발생된 난수는 3입니다.\n"
          ]
        }
      ]
    },
    {
      "cell_type": "code",
      "source": [
        "# 난수 발생 정리\n",
        "\n",
        "\n",
        "import random  # random 모듈 임포트 후 사용\n",
        "\n",
        "random.random() # 0에서 1미만 실수 float 으로 생성"
      ],
      "metadata": {
        "colab": {
          "base_uri": "https://localhost:8080/"
        },
        "id": "i2sojBhOokBi",
        "outputId": "18bfa1d2-a93b-493c-aca5-bef47a9cdd03"
      },
      "execution_count": 24,
      "outputs": [
        {
          "output_type": "execute_result",
          "data": {
            "text/plain": [
              "0.443991048052805"
            ]
          },
          "metadata": {},
          "execution_count": 24
        }
      ]
    },
    {
      "cell_type": "code",
      "source": [
        "random.randint(1,10) # 1에서 10이하 의 정수 하나 생성"
      ],
      "metadata": {
        "colab": {
          "base_uri": "https://localhost:8080/"
        },
        "id": "9ubCadm6oo3Q",
        "outputId": "1879fdf0-f537-4080-93f7-39928f24c815"
      },
      "execution_count": 26,
      "outputs": [
        {
          "output_type": "execute_result",
          "data": {
            "text/plain": [
              "8"
            ]
          },
          "metadata": {},
          "execution_count": 26
        }
      ]
    },
    {
      "cell_type": "code",
      "source": [
        "random.randrange(0,10, 2) # 0에서 10 미만 중 2의 배수로 난수 발생"
      ],
      "metadata": {
        "colab": {
          "base_uri": "https://localhost:8080/"
        },
        "id": "KUUGS2DyorDZ",
        "outputId": "89067d2b-bcda-4804-d08e-9155a6006227"
      },
      "execution_count": 25,
      "outputs": [
        {
          "output_type": "execute_result",
          "data": {
            "text/plain": [
              "8"
            ]
          },
          "metadata": {},
          "execution_count": 25
        }
      ]
    },
    {
      "cell_type": "code",
      "source": [
        "random.choice(['봄','여름','가을','겨울']) # 리스트의 값들 중 하나를 임의로 선택"
      ],
      "metadata": {
        "colab": {
          "base_uri": "https://localhost:8080/",
          "height": 35
        },
        "id": "jQM8AmE7pxvc",
        "outputId": "2295f826-ba18-4c41-b425-782a14dd1d5b"
      },
      "execution_count": 27,
      "outputs": [
        {
          "output_type": "execute_result",
          "data": {
            "text/plain": [
              "'봄'"
            ],
            "application/vnd.google.colaboratory.intrinsic+json": {
              "type": "string"
            }
          },
          "metadata": {},
          "execution_count": 27
        }
      ]
    },
    {
      "cell_type": "code",
      "source": [
        "random.sample(range(1,46), 6)  # range 범위 중 임의의 갯수 추출"
      ],
      "metadata": {
        "colab": {
          "base_uri": "https://localhost:8080/"
        },
        "id": "HMVEEPGdp6cN",
        "outputId": "50cba6d0-a411-45dd-90bc-e958a5dd37c9"
      },
      "execution_count": 28,
      "outputs": [
        {
          "output_type": "execute_result",
          "data": {
            "text/plain": [
              "[9, 32, 18, 13, 42, 5]"
            ]
          },
          "metadata": {},
          "execution_count": 28
        }
      ]
    },
    {
      "cell_type": "code",
      "source": [
        "list1 = [1,2,3,4,5]\n",
        "\n",
        "random.shuffle(list1)\n",
        "\n",
        "print(list1)"
      ],
      "metadata": {
        "colab": {
          "base_uri": "https://localhost:8080/"
        },
        "id": "QzHKbebjp8ot",
        "outputId": "8255f30b-affc-40a2-c1f5-8031f20997f5"
      },
      "execution_count": 29,
      "outputs": [
        {
          "output_type": "stream",
          "name": "stdout",
          "text": [
            "[1, 4, 5, 2, 3]\n"
          ]
        }
      ]
    },
    {
      "cell_type": "code",
      "source": [
        "# break  강제로 while 문 빠져나가기 \n",
        "# continue continue 하단의 내용은 건너뛰고 다시 반복문으로 들어가기\n",
        "\n",
        "i = 0\n",
        "\n",
        "while i < 10:\n",
        "  i += 1\n",
        "  if i % 2 == 0: \n",
        "    print(i)"
      ],
      "metadata": {
        "colab": {
          "base_uri": "https://localhost:8080/"
        },
        "id": "SnM2Z9-qrsq-",
        "outputId": "b4bb64d5-63f9-4ed7-c069-e7e60d9581b8"
      },
      "execution_count": 30,
      "outputs": [
        {
          "output_type": "stream",
          "name": "stdout",
          "text": [
            "2\n",
            "4\n",
            "6\n",
            "8\n",
            "10\n"
          ]
        }
      ]
    },
    {
      "cell_type": "code",
      "source": [
        "i = 0\n",
        "\n",
        "while i < 10:\n",
        "  i += 1\n",
        "  if i % 2 == 0: continue\n",
        "  print(i)"
      ],
      "metadata": {
        "colab": {
          "base_uri": "https://localhost:8080/"
        },
        "id": "sA5bR_EOruRL",
        "outputId": "17e6dc78-821d-452a-f75a-cb3dd72b3034"
      },
      "execution_count": 31,
      "outputs": [
        {
          "output_type": "stream",
          "name": "stdout",
          "text": [
            "1\n",
            "3\n",
            "5\n",
            "7\n",
            "9\n"
          ]
        }
      ]
    },
    {
      "cell_type": "code",
      "source": [
        "i = 0\n",
        "\n",
        "while True:\n",
        "  i += 1\n",
        "  if i == 10: break\n",
        "  print(i)"
      ],
      "metadata": {
        "colab": {
          "base_uri": "https://localhost:8080/"
        },
        "id": "tjqXUF5rryvL",
        "outputId": "f8366dc7-a0a6-4434-e206-a26e0673e1a9"
      },
      "execution_count": 33,
      "outputs": [
        {
          "output_type": "stream",
          "name": "stdout",
          "text": [
            "1\n",
            "2\n",
            "3\n",
            "4\n",
            "5\n",
            "6\n",
            "7\n",
            "8\n",
            "9\n"
          ]
        }
      ]
    }
  ]
}